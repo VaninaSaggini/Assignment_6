{
 "cells": [
  {
   "cell_type": "markdown",
   "id": "013ad426",
   "metadata": {},
   "source": [
    "Merlin the wizard is testing a new magic potion to transform ferocious hyenas into cute dogs. The powerful concoction must contain a minimum of 15 grams of loyalty, 21 g of affection, and 2 g of obedience. However, the dogs should be fed no more than 34 grams of potion per day.\n",
    "\n",
    "Rather than making a new potion from scratch, Merlin will reuse the potions X and Y and blend them for an optimal mix. Potion X contains 6 g of loyalty, 14 g of affection, and 1 g of obedience, and costs € 2 per gram. Potion Y contains 11 g of loyalty, 30 g of affection, and 2 g of obedience, at a cost of € 4 per gram.\n",
    "\n",
    "What is the optimal blend for the new magic potion?"
   ]
  },
  {
   "cell_type": "code",
   "execution_count": 25,
   "id": "2f698d51",
   "metadata": {},
   "outputs": [],
   "source": [
    "from ortools.linear_solver import pywraplp"
   ]
  },
  {
   "cell_type": "code",
   "execution_count": 26,
   "id": "1370e756",
   "metadata": {},
   "outputs": [],
   "source": [
    "solver = pywraplp.Solver.CreateSolver('GLOP')"
   ]
  },
  {
   "cell_type": "code",
   "execution_count": 27,
   "id": "7d44c121",
   "metadata": {},
   "outputs": [],
   "source": [
    "x = solver.NumVar(0, solver.infinity(), 'x')\n",
    "y = solver.NumVar(0, solver.infinity(), 'y')"
   ]
  },
  {
   "cell_type": "code",
   "execution_count": 28,
   "id": "ae0f0dd7",
   "metadata": {},
   "outputs": [
    {
     "data": {
      "text/plain": [
       "<ortools.linear_solver.pywraplp.Constraint; proxy of <Swig Object of type 'operations_research::MPConstraint *' at 0x7fb500124960> >"
      ]
     },
     "execution_count": 28,
     "metadata": {},
     "output_type": "execute_result"
    }
   ],
   "source": [
    "solver.Add(x * 6 + y * 11 >= 15) \n",
    "\n",
    "solver.Add(x * 14 + y * 30 >= 21)\n",
    "\n",
    "solver.Add(x * 1 + y * 2 >= 2)\n",
    "\n",
    "solver.Add(x + y <= 34)"
   ]
  },
  {
   "cell_type": "code",
   "execution_count": 29,
   "id": "ca56b734",
   "metadata": {},
   "outputs": [],
   "source": [
    "solver.Maximize(2 * x + 4 * y)"
   ]
  },
  {
   "cell_type": "code",
   "execution_count": 30,
   "id": "3a587bd1",
   "metadata": {},
   "outputs": [],
   "source": [
    "status = solver.Solve()"
   ]
  },
  {
   "cell_type": "code",
   "execution_count": 31,
   "id": "e03f7d27",
   "metadata": {},
   "outputs": [
    {
     "name": "stdout",
     "output_type": "stream",
     "text": [
      "Solution:\n",
      "Objective value = 136.00000000000003\n",
      "x = 0.0\n",
      "y = 34.00000000000001\n"
     ]
    }
   ],
   "source": [
    "if status == pywraplp.Solver.OPTIMAL:\n",
    "    print('Solution:')\n",
    "    print('Objective value =', solver.Objective().Value())\n",
    "    print('x =', x.solution_value())\n",
    "    print('y =', y.solution_value())\n",
    "else:\n",
    "    print('The problem does not have an optimal solution.')"
   ]
  },
  {
   "cell_type": "markdown",
   "id": "5366551d",
   "metadata": {},
   "source": [
    "The optimal blend for the potion appears to be 0 grams of X and 34 grams of Y at a cost of 136 €"
   ]
  },
  {
   "cell_type": "code",
   "execution_count": null,
   "id": "fa747eb8",
   "metadata": {},
   "outputs": [],
   "source": []
  },
  {
   "cell_type": "code",
   "execution_count": null,
   "id": "9a72f316",
   "metadata": {},
   "outputs": [],
   "source": []
  },
  {
   "cell_type": "code",
   "execution_count": null,
   "id": "3e060c14",
   "metadata": {},
   "outputs": [],
   "source": []
  }
 ],
 "metadata": {
  "kernelspec": {
   "display_name": "Python 3 (ipykernel)",
   "language": "python",
   "name": "python3"
  },
  "language_info": {
   "codemirror_mode": {
    "name": "ipython",
    "version": 3
   },
   "file_extension": ".py",
   "mimetype": "text/x-python",
   "name": "python",
   "nbconvert_exporter": "python",
   "pygments_lexer": "ipython3",
   "version": "3.9.12"
  }
 },
 "nbformat": 4,
 "nbformat_minor": 5
}
